{
  "nbformat": 4,
  "nbformat_minor": 0,
  "metadata": {
    "colab": {
      "provenance": [],
      "authorship_tag": "ABX9TyPjHnC30gU/T/IzqjGR0m3d",
      "include_colab_link": true
    },
    "kernelspec": {
      "name": "python3",
      "display_name": "Python 3"
    },
    "language_info": {
      "name": "python"
    }
  },
  "cells": [
    {
      "cell_type": "markdown",
      "metadata": {
        "id": "view-in-github",
        "colab_type": "text"
      },
      "source": [
        "<a href=\"https://colab.research.google.com/github/himashi27/NLP-project-Movies-and-E-commerce-/blob/main/NLP(P1).ipynb\" target=\"_parent\"><img src=\"https://colab.research.google.com/assets/colab-badge.svg\" alt=\"Open In Colab\"/></a>"
      ]
    },
    {
      "cell_type": "code",
      "source": [
        "!pip install IMDbPY pandas openpyxl\n"
      ],
      "metadata": {
        "colab": {
          "base_uri": "https://localhost:8080/"
        },
        "id": "7siY5Nvi-g9_",
        "outputId": "a96e478b-409d-48e1-b017-d641c5689ae8"
      },
      "execution_count": 3,
      "outputs": [
        {
          "output_type": "stream",
          "name": "stdout",
          "text": [
            "Collecting IMDbPY\n",
            "  Downloading IMDbPY-2022.7.9-py3-none-any.whl.metadata (498 bytes)\n",
            "Requirement already satisfied: pandas in /usr/local/lib/python3.12/dist-packages (2.2.2)\n",
            "Requirement already satisfied: openpyxl in /usr/local/lib/python3.12/dist-packages (3.1.5)\n",
            "Collecting cinemagoer (from IMDbPY)\n",
            "  Downloading cinemagoer-2023.5.1-py3-none-any.whl.metadata (2.9 kB)\n",
            "Requirement already satisfied: numpy>=1.26.0 in /usr/local/lib/python3.12/dist-packages (from pandas) (2.0.2)\n",
            "Requirement already satisfied: python-dateutil>=2.8.2 in /usr/local/lib/python3.12/dist-packages (from pandas) (2.9.0.post0)\n",
            "Requirement already satisfied: pytz>=2020.1 in /usr/local/lib/python3.12/dist-packages (from pandas) (2025.2)\n",
            "Requirement already satisfied: tzdata>=2022.7 in /usr/local/lib/python3.12/dist-packages (from pandas) (2025.2)\n",
            "Requirement already satisfied: et-xmlfile in /usr/local/lib/python3.12/dist-packages (from openpyxl) (2.0.0)\n",
            "Requirement already satisfied: six>=1.5 in /usr/local/lib/python3.12/dist-packages (from python-dateutil>=2.8.2->pandas) (1.17.0)\n",
            "Requirement already satisfied: SQLAlchemy in /usr/local/lib/python3.12/dist-packages (from cinemagoer->IMDbPY) (2.0.43)\n",
            "Requirement already satisfied: lxml in /usr/local/lib/python3.12/dist-packages (from cinemagoer->IMDbPY) (5.4.0)\n",
            "Requirement already satisfied: greenlet>=1 in /usr/local/lib/python3.12/dist-packages (from SQLAlchemy->cinemagoer->IMDbPY) (3.2.4)\n",
            "Requirement already satisfied: typing-extensions>=4.6.0 in /usr/local/lib/python3.12/dist-packages (from SQLAlchemy->cinemagoer->IMDbPY) (4.15.0)\n",
            "Downloading IMDbPY-2022.7.9-py3-none-any.whl (1.2 kB)\n",
            "Downloading cinemagoer-2023.5.1-py3-none-any.whl (297 kB)\n",
            "\u001b[2K   \u001b[90m━━━━━━━━━━━━━━━━━━━━━━━━━━━━━━━━━━━━━━━━\u001b[0m \u001b[32m297.2/297.2 kB\u001b[0m \u001b[31m4.0 MB/s\u001b[0m eta \u001b[36m0:00:00\u001b[0m\n",
            "\u001b[?25hInstalling collected packages: cinemagoer, IMDbPY\n",
            "Successfully installed IMDbPY-2022.7.9 cinemagoer-2023.5.1\n"
          ]
        }
      ]
    },
    {
      "cell_type": "code",
      "source": [
        "import pandas as pd\n",
        "\n",
        "# Step 1: Download IMDB datasets\n",
        "basics_url = \"https://datasets.imdbws.com/title.basics.tsv.gz\"\n",
        "ratings_url = \"https://datasets.imdbws.com/title.ratings.tsv.gz\"\n",
        "\n",
        "basics = pd.read_csv(basics_url, sep=\"\\t\", compression=\"gzip\", low_memory=False)\n",
        "ratings = pd.read_csv(ratings_url, sep=\"\\t\", compression=\"gzip\")\n",
        "\n",
        "# Step 2: Keep only movies\n",
        "movies = basics[basics[\"titleType\"] == \"movie\"]\n",
        "\n",
        "# Step 3: Merge with ratings\n",
        "movies = movies.merge(ratings, on=\"tconst\")\n",
        "\n",
        "# Step 4: Clean up and sort\n",
        "movies = movies[[\"primaryTitle\", \"startYear\", \"averageRating\", \"numVotes\"]]\n",
        "movies = movies.dropna()\n",
        "movies = movies[movies[\"startYear\"].str.isdigit()]  # keep only numeric years\n",
        "movies[\"startYear\"] = movies[\"startYear\"].astype(int)\n",
        "\n",
        "# Step 5: Get Top 100 movies by rating + votes\n",
        "top100 = movies.sort_values([\"averageRating\", \"numVotes\"], ascending=[False, False]).head(100)\n",
        "\n",
        "# Step 6: Group by decade and pick top 5 per decade\n",
        "top100[\"Decade\"] = (top100[\"startYear\"] // 10) * 10\n",
        "top_per_decade = top100.groupby(\"Decade\").apply(lambda x: x.nlargest(5, \"averageRating\")).reset_index(drop=True)\n",
        "\n",
        "print(top_per_decade)\n",
        "\n",
        "# Save to Excel\n",
        "top100.to_excel(\"IMDB_Top100.xlsx\", index=False)\n"
      ],
      "metadata": {
        "colab": {
          "base_uri": "https://localhost:8080/"
        },
        "id": "oY3azOHi-y8k",
        "outputId": "c89378fd-f365-4402-d287-de5012a64f3a"
      },
      "execution_count": 5,
      "outputs": [
        {
          "output_type": "stream",
          "name": "stdout",
          "text": [
            "                              primaryTitle  startYear  averageRating  \\\n",
            "0                                 Apoteose       2009            9.8   \n",
            "1                                    O Lar       2008            9.8   \n",
            "2                   Lo spirito del serchio       2009            9.8   \n",
            "3                     My Father's Daughter       2002            9.8   \n",
            "4                         The Lost Spirits       2009            9.8   \n",
            "5                            Lost Division       2018            9.9   \n",
            "6               Earth Seasoned... #GapYear       2017            9.9   \n",
            "7                    I leoni della Folgore       2017            9.9   \n",
            "8                                    Parto       2010            9.8   \n",
            "9                       All-Americans, The       2017            9.8   \n",
            "10                      Romeo and Benvolio       2024           10.0   \n",
            "11                       The Art Whisperer       2023           10.0   \n",
            "12  Johnny Depp: The Art of Transformation       2025           10.0   \n",
            "13            A Wonderful Way with Dragons       2025           10.0   \n",
            "14             Funérailles (Non ti voglio)       2024           10.0   \n",
            "\n",
            "    numVotes  Decade  \n",
            "0         88    2000  \n",
            "1         79    2000  \n",
            "2         16    2000  \n",
            "3         14    2000  \n",
            "4         12    2000  \n",
            "5         27    2010  \n",
            "6         11    2010  \n",
            "7         10    2010  \n",
            "8         88    2010  \n",
            "9         23    2010  \n",
            "10        28    2020  \n",
            "11        15    2020  \n",
            "12        13    2020  \n",
            "13         9    2020  \n",
            "14         8    2020  \n"
          ]
        },
        {
          "output_type": "stream",
          "name": "stderr",
          "text": [
            "/tmp/ipython-input-4254684987.py:27: DeprecationWarning: DataFrameGroupBy.apply operated on the grouping columns. This behavior is deprecated, and in a future version of pandas the grouping columns will be excluded from the operation. Either pass `include_groups=False` to exclude the groupings or explicitly select the grouping columns after groupby to silence this warning.\n",
            "  top_per_decade = top100.groupby(\"Decade\").apply(lambda x: x.nlargest(5, \"averageRating\")).reset_index(drop=True)\n"
          ]
        }
      ]
    }
  ]
}