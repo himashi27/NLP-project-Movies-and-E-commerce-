{
  "nbformat": 4,
  "nbformat_minor": 0,
  "metadata": {
    "colab": {
      "provenance": [],
      "authorship_tag": "ABX9TyNVX54GINeRNRXVlhCsV69F",
      "include_colab_link": true
    },
    "kernelspec": {
      "name": "python3",
      "display_name": "Python 3"
    },
    "language_info": {
      "name": "python"
    }
  },
  "cells": [
    {
      "cell_type": "markdown",
      "metadata": {
        "id": "view-in-github",
        "colab_type": "text"
      },
      "source": [
        "<a href=\"https://colab.research.google.com/github/himashi27/NLP-project-Movies-and-E-commerce-/blob/main/NLP(P2).ipynb\" target=\"_parent\"><img src=\"https://colab.research.google.com/assets/colab-badge.svg\" alt=\"Open In Colab\"/></a>"
      ]
    },
    {
      "cell_type": "code",
      "execution_count": 2,
      "metadata": {
        "colab": {
          "base_uri": "https://localhost:8080/"
        },
        "id": "QhbUgGK3_6Rt",
        "outputId": "3e56154f-6eef-45cd-8bcc-835814d8d8e9"
      },
      "outputs": [
        {
          "output_type": "stream",
          "name": "stdout",
          "text": [
            "📊 Average Price: 34.56\n",
            "🏆 Top Priced Product: The Death of Humanity: and the Case for Life - 58.11\n",
            "\n",
            "✅ First 5 products:\n",
            "                                  Product  Price Rating\n",
            "0                   A Light in the Attic  51.77  Three\n",
            "1                     Tipping the Velvet  53.74    One\n",
            "2                             Soumission  50.10    One\n",
            "3                          Sharp Objects  47.82   Four\n",
            "4  Sapiens: A Brief History of Humankind  54.23   Five\n"
          ]
        }
      ],
      "source": [
        "import requests\n",
        "from bs4 import BeautifulSoup\n",
        "import pandas as pd\n",
        "\n",
        "url = \"http://books.toscrape.com/catalogue/page-1.html\"\n",
        "headers = {\"User-Agent\": \"Mozilla/5.0\"}\n",
        "\n",
        "products = []\n",
        "\n",
        "# Scrape first 5 pages\n",
        "for page in range(1, 6):\n",
        "    response = requests.get(f\"http://books.toscrape.com/catalogue/page-{page}.html\", headers=headers)\n",
        "    response.encoding = \"utf-8\"  # fix encoding\n",
        "    soup = BeautifulSoup(response.text, \"html.parser\")\n",
        "\n",
        "    for item in soup.select(\"article.product_pod\"):\n",
        "        name = item.h3.a[\"title\"]\n",
        "\n",
        "        # Clean price (remove £, non-breaking spaces, and stray chars)\n",
        "        raw_price = item.select_one(\".price_color\").text\n",
        "        clean_price = raw_price.replace(\"£\", \"\").replace(\"Â\", \"\").strip()\n",
        "        price = float(clean_price)\n",
        "\n",
        "        # Rating (One, Two, Three, Four, Five)\n",
        "        rating = item.p[\"class\"][1]\n",
        "\n",
        "        products.append([name, price, rating])\n",
        "\n",
        "# Store in DataFrame\n",
        "df = pd.DataFrame(products, columns=[\"Product\", \"Price\", \"Rating\"])\n",
        "\n",
        "# Analysis\n",
        "avg_price = df[\"Price\"].mean()\n",
        "top_product = df.loc[df[\"Price\"].idxmax()]\n",
        "\n",
        "print(\"📊 Average Price:\", round(avg_price, 2))\n",
        "print(\"🏆 Top Priced Product:\", top_product[\"Product\"], \"-\", top_product[\"Price\"])\n",
        "print(\"\\n✅ First 5 products:\\n\", df.head())\n",
        "\n",
        "# Save to Excel\n",
        "df.to_excel(\"Ecommerce_Products.xlsx\", index=False)\n"
      ]
    }
  ]
}